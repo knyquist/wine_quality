{
 "metadata": {
  "name": ""
 },
 "nbformat": 3,
 "nbformat_minor": 0,
 "worksheets": [
  {
   "cells": [
    {
     "cell_type": "markdown",
     "metadata": {},
     "source": [
      "### Select the wine MySQL database"
     ]
    },
    {
     "cell_type": "code",
     "collapsed": false,
     "input": [
      "import MySQLdb\n",
      "\n",
      "# open the connection to the MySQL server using MySQLdb\n",
      "mydb = MySQLdb.connect(host='localhost',\n",
      "                       user='root',\n",
      "                       passwd='because')\n",
      "cursor = mydb.cursor()\n",
      "# connect to the digits mySQL database\n",
      "cursor.execute(\"USE wines\");"
     ],
     "language": "python",
     "metadata": {},
     "outputs": [],
     "prompt_number": 1
    },
    {
     "cell_type": "markdown",
     "metadata": {},
     "source": [
      "Look at red wine data"
     ]
    },
    {
     "cell_type": "code",
     "collapsed": false,
     "input": [
      "import matplotlib.pyplot as plt\n",
      "import numpy as np\n",
      "\n",
      "cursor.execute(\"SELECT * FROM red\")\n",
      "rows = cursor.fetchall()"
     ],
     "language": "python",
     "metadata": {},
     "outputs": [],
     "prompt_number": 2
    },
    {
     "cell_type": "code",
     "collapsed": false,
     "input": [
      "print rows[0:5]"
     ],
     "language": "python",
     "metadata": {},
     "outputs": [
      {
       "output_type": "stream",
       "stream": "stdout",
       "text": [
        "((None, \"'fixed acidity'\", \"'volatile acidity'\", \"'citric acid'\", \"'residual sugar'\", \"'chlorides'\", \"'free sulfur dioxide'\", \"'total sulfur dioxide'\", \"'density'\", \"'pH'\", \"'sulphates'\", \"'alcohol'\", \"'quality'\"), (None, \"'7.4'\", \"'0.7'\", \"'0'\", \"'1.9'\", \"'0.076'\", \"'11'\", \"'34'\", \"'0.9978'\", \"'3.51'\", \"'0.56'\", \"'9.4'\", \"'5'\"), (None, \"'7.8'\", \"'0.88'\", \"'0'\", \"'2.6'\", \"'0.098'\", \"'25'\", \"'67'\", \"'0.9968'\", \"'3.2'\", \"'0.68'\", \"'9.8'\", \"'5'\"), (None, \"'7.8'\", \"'0.76'\", \"'0.04'\", \"'2.3'\", \"'0.092'\", \"'15'\", \"'54'\", \"'0.997'\", \"'3.26'\", \"'0.65'\", \"'9.8'\", \"'5'\"), (None, \"'11.2'\", \"'0.28'\", \"'0.56'\", \"'1.9'\", \"'0.075'\", \"'17'\", \"'60'\", \"'0.998'\", \"'3.16'\", \"'0.58'\", \"'9.8'\", \"'6'\"))\n"
       ]
      }
     ],
     "prompt_number": 3
    },
    {
     "cell_type": "code",
     "collapsed": false,
     "input": [
      "cursor.close()"
     ],
     "language": "python",
     "metadata": {},
     "outputs": [],
     "prompt_number": 4
    },
    {
     "cell_type": "code",
     "collapsed": false,
     "input": [],
     "language": "python",
     "metadata": {},
     "outputs": []
    }
   ],
   "metadata": {}
  }
 ]
}