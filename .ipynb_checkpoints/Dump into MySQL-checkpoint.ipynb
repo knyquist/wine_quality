{
 "metadata": {
  "name": ""
 },
 "nbformat": 3,
 "nbformat_minor": 0,
 "worksheets": [
  {
   "cells": [
    {
     "cell_type": "markdown",
     "metadata": {},
     "source": [
      "### Load data into MySQL ###"
     ]
    },
    {
     "cell_type": "code",
     "collapsed": false,
     "input": [
      "# connect to mysql database\n",
      "import csv\n",
      "import MySQLdb\n",
      "\n",
      "db = MySQLdb.connect(host   = \"localhost\",\n",
      "                     user   = \"root\",\n",
      "                     passwd = \"because\")\n",
      "\n",
      "cursor = db.cursor() \n",
      "cursor.execute(\"USE wines\");"
     ],
     "language": "python",
     "metadata": {},
     "outputs": [],
     "prompt_number": 1
    },
    {
     "cell_type": "code",
     "collapsed": false,
     "input": [
      "# read the csv files\n",
      "red   = csv.reader(file('./data/winequality-red.csv'), delimiter=';')\n",
      "white = csv.reader(file('./data/winequality-white.csv'), delimiter=';')"
     ],
     "language": "python",
     "metadata": {},
     "outputs": [],
     "prompt_number": 2
    },
    {
     "cell_type": "code",
     "collapsed": false,
     "input": [
      "# manually add columns for each feature. this could be looped from header easily\n",
      "cursor.execute('ALTER TABLE red ADD COLUMN fixed_acidity VARCHAR(40), \\\n",
      "                                ADD COLUMN volatile_acidity VARCHAR(40), \\\n",
      "                                ADD COLUMN citric_acid VARCHAR(40), \\\n",
      "                                ADD COLUMN residual_sugar VARCHAR(40), \\\n",
      "                                ADD COLUMN chlorides VARCHAR(40), \\\n",
      "                                ADD COLUMN free_sulfur_dioxide VARCHAR(40), \\\n",
      "                                ADD COLUMN total_sulfur_dioxide VARCHAR(40), \\\n",
      "                                ADD COLUMN density VARCHAR(40), \\\n",
      "                                ADD COLUMN pH VARCHAR(40), \\\n",
      "                                ADD COLUMN sulphates VARCHAR(40), \\\n",
      "                                ADD COLUMN alcohol VARCHAR(40), \\\n",
      "                                ADD COLUMN quality VARCHAR(40)')\n",
      "\n",
      "for row in red:\n",
      "    cursor.execute('INSERT INTO red(fixed_acidity, \\\n",
      "                                    volatile_acidity, \\\n",
      "                                    citric_acid, \\\n",
      "                                    residual_sugar, \\\n",
      "                                    chlorides, \\\n",
      "                                    free_sulfur_dioxide, \\\n",
      "                                    total_sulfur_dioxide, \\\n",
      "                                    density, \\\n",
      "                                    pH, \\\n",
      "                                    sulphates, \\\n",
      "                                    alcohol, \\\n",
      "                                    quality)' \\\n",
      "                   'VALUES(%s, %s, %s, %s, \\\n",
      "                           %s, %s, %s, %s, \\\n",
      "                           %s, %s, %s, %s)', row)\n",
      "\n",
      "db.commit()\n",
      "print \"Inputting red data done\"\n",
      "                   "
     ],
     "language": "python",
     "metadata": {},
     "outputs": [
      {
       "output_type": "stream",
       "stream": "stdout",
       "text": [
        "Inputting red data done\n"
       ]
      }
     ],
     "prompt_number": 3
    },
    {
     "cell_type": "code",
     "collapsed": false,
     "input": [
      "# manually add columns for each feature. this could be looped from header easily\n",
      "cursor.execute('ALTER TABLE white ADD COLUMN fixed_acidity VARCHAR(40), \\\n",
      "                                ADD COLUMN volatile_acidity VARCHAR(40), \\\n",
      "                                ADD COLUMN citric_acid VARCHAR(40), \\\n",
      "                                ADD COLUMN residual_sugar VARCHAR(40), \\\n",
      "                                ADD COLUMN chlorides VARCHAR(40), \\\n",
      "                                ADD COLUMN free_sulfur_dioxide VARCHAR(40), \\\n",
      "                                ADD COLUMN total_sulfur_dioxide VARCHAR(40), \\\n",
      "                                ADD COLUMN density VARCHAR(40), \\\n",
      "                                ADD COLUMN pH VARCHAR(40), \\\n",
      "                                ADD COLUMN sulphates VARCHAR(40), \\\n",
      "                                ADD COLUMN alcohol VARCHAR(40), \\\n",
      "                                ADD COLUMN quality VARCHAR(40)')\n",
      "\n",
      "for row in white:\n",
      "    cursor.execute('INSERT INTO white(fixed_acidity, \\\n",
      "                                    volatile_acidity, \\\n",
      "                                    citric_acid, \\\n",
      "                                    residual_sugar, \\\n",
      "                                    chlorides, \\\n",
      "                                    free_sulfur_dioxide, \\\n",
      "                                    total_sulfur_dioxide, \\\n",
      "                                    density, \\\n",
      "                                    pH, \\\n",
      "                                    sulphates, \\\n",
      "                                    alcohol, \\\n",
      "                                    quality)' \\\n",
      "                   'VALUES(%s, %s, %s, %s, \\\n",
      "                           %s, %s, %s, %s, \\\n",
      "                           %s, %s, %s, %s)', row)\n",
      "\n",
      "db.commit()\n",
      "print \"Inputting white data done\"\n",
      "                   "
     ],
     "language": "python",
     "metadata": {},
     "outputs": [
      {
       "output_type": "stream",
       "stream": "stdout",
       "text": [
        "Inputting white data done\n"
       ]
      }
     ],
     "prompt_number": 4
    },
    {
     "cell_type": "code",
     "collapsed": false,
     "input": [
      "cursor.execute('ALTER TABLE red DROP id')\n",
      "db.commit()\n",
      "print \"red table's id column dropped\""
     ],
     "language": "python",
     "metadata": {},
     "outputs": [
      {
       "output_type": "stream",
       "stream": "stdout",
       "text": [
        "red table's id column dropped\n"
       ]
      }
     ],
     "prompt_number": 5
    },
    {
     "cell_type": "code",
     "collapsed": false,
     "input": [
      "cursor.execute('ALTER TABLE white DROP id')\n",
      "db.commit()\n",
      "print \"white table's id column dropped\""
     ],
     "language": "python",
     "metadata": {},
     "outputs": [
      {
       "output_type": "stream",
       "stream": "stdout",
       "text": [
        "white table's id column dropped\n"
       ]
      }
     ],
     "prompt_number": 6
    },
    {
     "cell_type": "markdown",
     "metadata": {},
     "source": [
      "### SQL filtering exercises"
     ]
    },
    {
     "cell_type": "code",
     "collapsed": false,
     "input": [],
     "language": "python",
     "metadata": {},
     "outputs": []
    },
    {
     "cell_type": "markdown",
     "metadata": {},
     "source": [
      "### Close connection"
     ]
    },
    {
     "cell_type": "code",
     "collapsed": false,
     "input": [
      "cursor.close()"
     ],
     "language": "python",
     "metadata": {},
     "outputs": [],
     "prompt_number": 7
    },
    {
     "cell_type": "code",
     "collapsed": false,
     "input": [],
     "language": "python",
     "metadata": {},
     "outputs": []
    }
   ],
   "metadata": {}
  }
 ]
}