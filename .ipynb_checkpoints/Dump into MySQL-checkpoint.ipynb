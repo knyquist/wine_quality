{
 "metadata": {
  "name": ""
 },
 "nbformat": 3,
 "nbformat_minor": 0,
 "worksheets": [
  {
   "cells": [
    {
     "cell_type": "markdown",
     "metadata": {},
     "source": [
      "### Load data into MySQL ###"
     ]
    },
    {
     "cell_type": "code",
     "collapsed": false,
     "input": [
      "# connect to mysql database\n",
      "import csv\n",
      "import MySQLdb\n",
      "\n",
      "db = MySQLdb.connect(host   = \"localhost\",\n",
      "                     user   = \"root\",\n",
      "                     passwd = \"because\")\n",
      "\n",
      "cursor = db.cursor() \n",
      "cursor.execute(\"USE wines\");"
     ],
     "language": "python",
     "metadata": {},
     "outputs": [],
     "prompt_number": 1
    },
    {
     "cell_type": "code",
     "collapsed": false,
     "input": [
      "# read the csv files\n",
      "red   = csv.reader(file('./data/winequality-red.csv'), delimiter=';')\n",
      "white = csv.reader(file('./data/winequality-white.csv'), delimiter=';')"
     ],
     "language": "python",
     "metadata": {},
     "outputs": [],
     "prompt_number": 2
    },
    {
     "cell_type": "code",
     "collapsed": false,
     "input": [
      "print red[0]"
     ],
     "language": "python",
     "metadata": {},
     "outputs": [
      {
       "ename": "TypeError",
       "evalue": "'_csv.reader' object has no attribute '__getitem__'",
       "output_type": "pyerr",
       "traceback": [
        "\u001b[0;31m---------------------------------------------------------------------------\u001b[0m\n\u001b[0;31mTypeError\u001b[0m                                 Traceback (most recent call last)",
        "\u001b[0;32m<ipython-input-5-29c060dfa878>\u001b[0m in \u001b[0;36m<module>\u001b[0;34m()\u001b[0m\n\u001b[0;32m----> 1\u001b[0;31m \u001b[0;32mprint\u001b[0m \u001b[0mred\u001b[0m\u001b[0;34m[\u001b[0m\u001b[0;36m0\u001b[0m\u001b[0;34m]\u001b[0m\u001b[0;34m\u001b[0m\u001b[0m\n\u001b[0m",
        "\u001b[0;31mTypeError\u001b[0m: '_csv.reader' object has no attribute '__getitem__'"
       ]
      }
     ],
     "prompt_number": 5
    },
    {
     "cell_type": "code",
     "collapsed": false,
     "input": [
      "# manually add columns for each feature. this could be looped from header easily\n",
      "cursor.execute('ALTER TABLE red ADD COLUMN fixed_acidity VARCHAR(40), \\\n",
      "                                ADD COLUMN volatile_acidity VARCHAR(40), \\\n",
      "                                ADD COLUMN citric_acid VARCHAR(40), \\\n",
      "                                ADD COLUMN residual_sugar VARCHAR(40), \\\n",
      "                                ADD COLUMN chlorides VARCHAR(40), \\\n",
      "                                ADD COLUMN free_sulfur_dioxide VARCHAR(40), \\\n",
      "                                ADD COLUMN total_sulfur_dioxide VARCHAR(40), \\\n",
      "                                ADD COLUMN density VARCHAR(40), \\\n",
      "                                ADD COLUMN pH VARCHAR(40), \\\n",
      "                                ADD COLUMN sulphates VARCHAR(40), \\\n",
      "                                ADD COLUMN alcohol VARCHAR(40), \\\n",
      "                                ADD COLUMN quality VARCHAR(40)')\n",
      "\n",
      "for row in red:\n",
      "    cursor.execute('INSERT INTO red(fixed_acidity, \\\n",
      "                                    volatile_acidity, \\\n",
      "                                    citric_acid, \\\n",
      "                                    residual_sugar, \\\n",
      "                                    chlorides, \\\n",
      "                                    free_sulfur_dioxide, \\\n",
      "                                    total_sulfur_dioxide, \\\n",
      "                                    density, \\\n",
      "                                    pH, \\\n",
      "                                    sulphates, \\\n",
      "                                    alcohol, \\\n",
      "                                    quality)', row)\n",
      "\n",
      "db.commit()\n",
      "print \"Inputting red data done\"\n",
      "                   "
     ],
     "language": "python",
     "metadata": {},
     "outputs": [
      {
       "ename": "TypeError",
       "evalue": "not all arguments converted during string formatting",
       "output_type": "pyerr",
       "traceback": [
        "\u001b[0;31m---------------------------------------------------------------------------\u001b[0m\n\u001b[0;31mTypeError\u001b[0m                                 Traceback (most recent call last)",
        "\u001b[0;32m<ipython-input-3-e118e58c7a8c>\u001b[0m in \u001b[0;36m<module>\u001b[0;34m()\u001b[0m\n\u001b[1;32m     16\u001b[0m \u001b[0;34m\u001b[0m\u001b[0m\n\u001b[1;32m     17\u001b[0m \u001b[0;32mfor\u001b[0m \u001b[0mrow\u001b[0m \u001b[0;32min\u001b[0m \u001b[0mred\u001b[0m\u001b[0;34m:\u001b[0m\u001b[0;34m\u001b[0m\u001b[0m\n\u001b[0;32m---> 18\u001b[0;31m     \u001b[0mcursor\u001b[0m\u001b[0;34m.\u001b[0m\u001b[0mexecute\u001b[0m\u001b[0;34m(\u001b[0m\u001b[0;34m'INSERT INTO red(fixed_acidity,                                     volatile_acidity,                                     citric_acid,                                     residual_sugar,                                     chlorides,                                     free_sulfur_dioxide,                                     total_sulfur_dioxide,                                     density,                                     pH,                                     sulphates,                                     alcohol,                                     quality)'\u001b[0m\u001b[0;34m,\u001b[0m \u001b[0mrow\u001b[0m\u001b[0;34m)\u001b[0m\u001b[0;34m\u001b[0m\u001b[0m\n\u001b[0m\u001b[1;32m     19\u001b[0m \u001b[0;34m\u001b[0m\u001b[0m\n\u001b[1;32m     20\u001b[0m \u001b[0mdb\u001b[0m\u001b[0;34m.\u001b[0m\u001b[0mcommit\u001b[0m\u001b[0;34m(\u001b[0m\u001b[0;34m)\u001b[0m\u001b[0;34m\u001b[0m\u001b[0m\n",
        "\u001b[0;32m/usr/lib/python2.7/dist-packages/MySQLdb/cursors.pyc\u001b[0m in \u001b[0;36mexecute\u001b[0;34m(self, query, args)\u001b[0m\n\u001b[1;32m    157\u001b[0m             \u001b[0mquery\u001b[0m \u001b[0;34m=\u001b[0m \u001b[0mquery\u001b[0m\u001b[0;34m.\u001b[0m\u001b[0mencode\u001b[0m\u001b[0;34m(\u001b[0m\u001b[0mcharset\u001b[0m\u001b[0;34m)\u001b[0m\u001b[0;34m\u001b[0m\u001b[0m\n\u001b[1;32m    158\u001b[0m         \u001b[0;32mif\u001b[0m \u001b[0margs\u001b[0m \u001b[0;32mis\u001b[0m \u001b[0;32mnot\u001b[0m \u001b[0mNone\u001b[0m\u001b[0;34m:\u001b[0m\u001b[0;34m\u001b[0m\u001b[0m\n\u001b[0;32m--> 159\u001b[0;31m             \u001b[0mquery\u001b[0m \u001b[0;34m=\u001b[0m \u001b[0mquery\u001b[0m \u001b[0;34m%\u001b[0m \u001b[0mdb\u001b[0m\u001b[0;34m.\u001b[0m\u001b[0mliteral\u001b[0m\u001b[0;34m(\u001b[0m\u001b[0margs\u001b[0m\u001b[0;34m)\u001b[0m\u001b[0;34m\u001b[0m\u001b[0m\n\u001b[0m\u001b[1;32m    160\u001b[0m         \u001b[0;32mtry\u001b[0m\u001b[0;34m:\u001b[0m\u001b[0;34m\u001b[0m\u001b[0m\n\u001b[1;32m    161\u001b[0m             \u001b[0mr\u001b[0m \u001b[0;34m=\u001b[0m \u001b[0mself\u001b[0m\u001b[0;34m.\u001b[0m\u001b[0m_query\u001b[0m\u001b[0;34m(\u001b[0m\u001b[0mquery\u001b[0m\u001b[0;34m)\u001b[0m\u001b[0;34m\u001b[0m\u001b[0m\n",
        "\u001b[0;31mTypeError\u001b[0m: not all arguments converted during string formatting"
       ]
      }
     ],
     "prompt_number": 3
    },
    {
     "cell_type": "code",
     "collapsed": false,
     "input": [
      "# manually add columns for each feature. this could be looped from header easily\n",
      "cursor.execute('ALTER TABLE white ADD COLUMN fixed_acidity VARCHAR(40), \\\n",
      "                                  ADD COLUMN volatile_acidity VARCHAR(40), \\\n",
      "                                  ADD COLUMN citric_acid VARCHAR(40), \\\n",
      "                                  ADD COLUMN residual_sugar VARCHAR(40), \\\n",
      "                                  ADD COLUMN chlorides VARCHAR(40), \\\n",
      "                                  ADD COLUMN free_sulfur_dioxide VARCHAR(40), \\\n",
      "                                  ADD COLUMN total_sulfur_dioxide VARCHAR(40), \\\n",
      "                                  ADD COLUMN density VARCHAR(40), \\\n",
      "                                  ADD COLUMN pH VARCHAR(40), \\\n",
      "                                  ADD COLUMN sulphates VARCHAR(40), \\\n",
      "                                  ADD COLUMN alcohol VARCHAR(40), \\\n",
      "                                  ADD COLUMN quality VARCHAR(40)')\n",
      "\n",
      "for row in white:\n",
      "    cursor.execute('INSERT INTO white(fixed_acidity, \\\n",
      "                                    volatile_acidity, \\\n",
      "                                    citric_acid, \\\n",
      "                                    residual_sugar, \\\n",
      "                                    chlorides, \\\n",
      "                                    free_sulfur_dioxide, \\\n",
      "                                    total_sulfur_dioxide, \\\n",
      "                                    density, \\\n",
      "                                    pH, \\\n",
      "                                    sulphates, \\\n",
      "                                    alcohol, \\\n",
      "                                    quality)' \\\n",
      "                   'VALUES(\"%s\", \"%s\", \"%s\", \"%s\", \\\n",
      "                           \"%s\", \"%s\", \"%s\", \"%s\", \\\n",
      "                           \"%s\", \"%s\", \"%s\", \"%s\")', row)\n",
      "\n",
      "db.commit()\n",
      "print \"Inputting white data done\""
     ],
     "language": "python",
     "metadata": {},
     "outputs": [
      {
       "ename": "OperationalError",
       "evalue": "(1060, \"Duplicate column name 'fixed_acidity'\")",
       "output_type": "pyerr",
       "traceback": [
        "\u001b[0;31m---------------------------------------------------------------------------\u001b[0m\n\u001b[0;31mOperationalError\u001b[0m                          Traceback (most recent call last)",
        "\u001b[0;32m<ipython-input-4-dc707218877d>\u001b[0m in \u001b[0;36m<module>\u001b[0;34m()\u001b[0m\n\u001b[1;32m      1\u001b[0m \u001b[0;31m# manually add columns for each feature. this could be looped from header easily\u001b[0m\u001b[0;34m\u001b[0m\u001b[0;34m\u001b[0m\u001b[0m\n\u001b[0;32m----> 2\u001b[0;31m \u001b[0mcursor\u001b[0m\u001b[0;34m.\u001b[0m\u001b[0mexecute\u001b[0m\u001b[0;34m(\u001b[0m\u001b[0;34m'ALTER TABLE white ADD COLUMN fixed_acidity VARCHAR(40),                                   ADD COLUMN volatile_acidity VARCHAR(40),                                   ADD COLUMN citric_acid VARCHAR(40),                                   ADD COLUMN residual_sugar VARCHAR(40),                                   ADD COLUMN chlorides VARCHAR(40),                                   ADD COLUMN free_sulfur_dioxide VARCHAR(40),                                   ADD COLUMN total_sulfur_dioxide VARCHAR(40),                                   ADD COLUMN density VARCHAR(40),                                   ADD COLUMN pH VARCHAR(40),                                   ADD COLUMN sulphates VARCHAR(40),                                   ADD COLUMN alcohol VARCHAR(40),                                   ADD COLUMN quality VARCHAR(40)'\u001b[0m\u001b[0;34m)\u001b[0m\u001b[0;34m\u001b[0m\u001b[0m\n\u001b[0m\u001b[1;32m      3\u001b[0m \u001b[0;34m\u001b[0m\u001b[0m\n\u001b[1;32m      4\u001b[0m \u001b[0;32mfor\u001b[0m \u001b[0mrow\u001b[0m \u001b[0;32min\u001b[0m \u001b[0mwhite\u001b[0m\u001b[0;34m:\u001b[0m\u001b[0;34m\u001b[0m\u001b[0m\n\u001b[1;32m      5\u001b[0m     \u001b[0mcursor\u001b[0m\u001b[0;34m.\u001b[0m\u001b[0mexecute\u001b[0m\u001b[0;34m(\u001b[0m\u001b[0;34m'INSERT INTO white(fixed_acidity,                                     volatile_acidity,                                     citric_acid,                                     residual_sugar,                                     chlorides,                                     free_sulfur_dioxide,                                     total_sulfur_dioxide,                                     density,                                     pH,                                     sulphates,                                     alcohol,                                     quality)'\u001b[0m                    \u001b[0;34m'VALUES(\"%s\", \"%s\", \"%s\", \"%s\",                            \"%s\", \"%s\", \"%s\", \"%s\",                            \"%s\", \"%s\", \"%s\", \"%s\")'\u001b[0m\u001b[0;34m,\u001b[0m \u001b[0mrow\u001b[0m\u001b[0;34m)\u001b[0m\u001b[0;34m\u001b[0m\u001b[0m\n",
        "\u001b[0;32m/usr/lib/python2.7/dist-packages/MySQLdb/cursors.pyc\u001b[0m in \u001b[0;36mexecute\u001b[0;34m(self, query, args)\u001b[0m\n\u001b[1;32m    172\u001b[0m             \u001b[0;32mdel\u001b[0m \u001b[0mtb\u001b[0m\u001b[0;34m\u001b[0m\u001b[0m\n\u001b[1;32m    173\u001b[0m             \u001b[0mself\u001b[0m\u001b[0;34m.\u001b[0m\u001b[0mmessages\u001b[0m\u001b[0;34m.\u001b[0m\u001b[0mappend\u001b[0m\u001b[0;34m(\u001b[0m\u001b[0;34m(\u001b[0m\u001b[0mexc\u001b[0m\u001b[0;34m,\u001b[0m \u001b[0mvalue\u001b[0m\u001b[0;34m)\u001b[0m\u001b[0;34m)\u001b[0m\u001b[0;34m\u001b[0m\u001b[0m\n\u001b[0;32m--> 174\u001b[0;31m             \u001b[0mself\u001b[0m\u001b[0;34m.\u001b[0m\u001b[0merrorhandler\u001b[0m\u001b[0;34m(\u001b[0m\u001b[0mself\u001b[0m\u001b[0;34m,\u001b[0m \u001b[0mexc\u001b[0m\u001b[0;34m,\u001b[0m \u001b[0mvalue\u001b[0m\u001b[0;34m)\u001b[0m\u001b[0;34m\u001b[0m\u001b[0m\n\u001b[0m\u001b[1;32m    175\u001b[0m         \u001b[0mself\u001b[0m\u001b[0;34m.\u001b[0m\u001b[0m_executed\u001b[0m \u001b[0;34m=\u001b[0m \u001b[0mquery\u001b[0m\u001b[0;34m\u001b[0m\u001b[0m\n\u001b[1;32m    176\u001b[0m         \u001b[0;32mif\u001b[0m \u001b[0;32mnot\u001b[0m \u001b[0mself\u001b[0m\u001b[0;34m.\u001b[0m\u001b[0m_defer_warnings\u001b[0m\u001b[0;34m:\u001b[0m \u001b[0mself\u001b[0m\u001b[0;34m.\u001b[0m\u001b[0m_warning_check\u001b[0m\u001b[0;34m(\u001b[0m\u001b[0;34m)\u001b[0m\u001b[0;34m\u001b[0m\u001b[0m\n",
        "\u001b[0;32m/usr/lib/python2.7/dist-packages/MySQLdb/connections.pyc\u001b[0m in \u001b[0;36mdefaulterrorhandler\u001b[0;34m(***failed resolving arguments***)\u001b[0m\n\u001b[1;32m     34\u001b[0m     \u001b[0;32mdel\u001b[0m \u001b[0mcursor\u001b[0m\u001b[0;34m\u001b[0m\u001b[0m\n\u001b[1;32m     35\u001b[0m     \u001b[0;32mdel\u001b[0m \u001b[0mconnection\u001b[0m\u001b[0;34m\u001b[0m\u001b[0m\n\u001b[0;32m---> 36\u001b[0;31m     \u001b[0;32mraise\u001b[0m \u001b[0merrorclass\u001b[0m\u001b[0;34m,\u001b[0m \u001b[0merrorvalue\u001b[0m\u001b[0;34m\u001b[0m\u001b[0m\n\u001b[0m\u001b[1;32m     37\u001b[0m \u001b[0;34m\u001b[0m\u001b[0m\n\u001b[1;32m     38\u001b[0m \u001b[0mre_numeric_part\u001b[0m \u001b[0;34m=\u001b[0m \u001b[0mre\u001b[0m\u001b[0;34m.\u001b[0m\u001b[0mcompile\u001b[0m\u001b[0;34m(\u001b[0m\u001b[0;34mr\"^(\\d+)\"\u001b[0m\u001b[0;34m)\u001b[0m\u001b[0;34m\u001b[0m\u001b[0m\n",
        "\u001b[0;31mOperationalError\u001b[0m: (1060, \"Duplicate column name 'fixed_acidity'\")"
       ]
      }
     ],
     "prompt_number": 4
    },
    {
     "cell_type": "code",
     "collapsed": false,
     "input": [
      "cursor.execute('ALTER TABLE red DROP id')\n",
      "db.commit()\n",
      "print \"red table's id column dropped\""
     ],
     "language": "python",
     "metadata": {},
     "outputs": [
      {
       "output_type": "stream",
       "stream": "stdout",
       "text": [
        "red table's id column dropped\n"
       ]
      }
     ],
     "prompt_number": 5
    },
    {
     "cell_type": "code",
     "collapsed": false,
     "input": [
      "cursor.execute('ALTER TABLE white DROP id')\n",
      "db.commit()\n",
      "print \"white table's id column dropped\""
     ],
     "language": "python",
     "metadata": {},
     "outputs": [
      {
       "output_type": "stream",
       "stream": "stdout",
       "text": [
        "white table's id column dropped\n"
       ]
      }
     ],
     "prompt_number": 6
    },
    {
     "cell_type": "markdown",
     "metadata": {},
     "source": [
      "### SQL filtering exercises"
     ]
    },
    {
     "cell_type": "code",
     "collapsed": false,
     "input": [],
     "language": "python",
     "metadata": {},
     "outputs": []
    },
    {
     "cell_type": "markdown",
     "metadata": {},
     "source": [
      "### Close connection"
     ]
    },
    {
     "cell_type": "code",
     "collapsed": false,
     "input": [
      "cursor.close()"
     ],
     "language": "python",
     "metadata": {},
     "outputs": [],
     "prompt_number": 7
    },
    {
     "cell_type": "code",
     "collapsed": false,
     "input": [],
     "language": "python",
     "metadata": {},
     "outputs": []
    }
   ],
   "metadata": {}
  }
 ]
}